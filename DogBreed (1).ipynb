{
  "nbformat": 4,
  "nbformat_minor": 0,
  "metadata": {
    "colab": {
      "name": "DogBreed.ipynb",
      "provenance": [],
      "collapsed_sections": []
    },
    "kernelspec": {
      "name": "python3",
      "display_name": "Python 3"
    },
    "language_info": {
      "name": "python"
    }
  },
  "cells": [
    {
      "cell_type": "code",
      "execution_count": null,
      "metadata": {
        "colab": {
          "base_uri": "https://localhost:8080/"
        },
        "id": "Iro4QsN8PlYq",
        "outputId": "28b11bf3-7f81-4e3b-f6b8-28be6656a529"
      },
      "outputs": [
        {
          "output_type": "stream",
          "name": "stdout",
          "text": [
            "Mounted at /content/drive\n"
          ]
        }
      ],
      "source": [
        "import os\n",
        "from google.colab import drive\n",
        "drive.mount('/content/drive')"
      ]
    },
    {
      "cell_type": "code",
      "source": [
        "import numpy as np\n",
        "import pandas as pd\n",
        "from keras.models import Sequential\n",
        "from keras.layers import Convolution2D,Dense,MaxPooling2D,Flatten\n",
        "from keras.preprocessing.image import ImageDataGenerator,image"
      ],
      "metadata": {
        "id": "CvlWJ7GJQL1L"
      },
      "execution_count": null,
      "outputs": []
    },
    {
      "cell_type": "code",
      "source": [
        "train_datagen = ImageDataGenerator(rescale=1/255,shear_range=0.2,zoom_range=0.2,validation_split=0.2,horizontal_flip=True)\n",
        "test_datagen = ImageDataGenerator(rescale=1/255,shear_range=0.2,zoom_range=0.2,validation_split=0.2,horizontal_flip=True)"
      ],
      "metadata": {
        "id": "B_XLs0PNRG-V"
      },
      "execution_count": null,
      "outputs": []
    },
    {
      "cell_type": "code",
      "source": [
        "train_set = train_datagen.flow_from_directory('/content/drive/MyDrive/dog breed',target_size=(64,64),batch_size=32,class_mode='categorical',\n",
        "                                              classes=['Affenhuahua dog', 'Afgan Hound dog', 'Akita dog', 'Alaskan Malamute dog'],subset='training')\n",
        "test_set = test_datagen.flow_from_directory('/content/drive/MyDrive/dog breed',target_size=(64,64),batch_size=32,class_mode='categorical',\n",
        "                                              classes=['Affenhuahua dog', 'Afgan Hound dog', 'Akita dog', 'Alaskan Malamute dog'],subset='validation')\n"
      ],
      "metadata": {
        "colab": {
          "base_uri": "https://localhost:8080/"
        },
        "id": "Ftw2vnsCS0w7",
        "outputId": "7347a5a4-fb0e-440d-995c-23d72f9a0d7a"
      },
      "execution_count": null,
      "outputs": [
        {
          "output_type": "stream",
          "name": "stdout",
          "text": [
            "Found 160 images belonging to 4 classes.\n",
            "Found 40 images belonging to 4 classes.\n"
          ]
        }
      ]
    },
    {
      "cell_type": "code",
      "source": [
        "model=Sequential()\n",
        "model.add(Convolution2D(32,3,3,input_shape=(64,64,3),activation='relu'))\n",
        "model.add(MaxPooling2D(pool_size=(2,2)))\n",
        "model.add(Convolution2D(32,3,3,input_shape=(64,64,3),activation='relu'))\n",
        "model.add(MaxPooling2D(pool_size=(2,2)))\n",
        "model.add(Dense(128,activation='relu'))\n",
        "model.add(Dense(128,activation='relu'))\n",
        "model.add(Dense(4,activation='softmax'))"
      ],
      "metadata": {
        "id": "6NWNshhqTw2o"
      },
      "execution_count": null,
      "outputs": []
    },
    {
      "cell_type": "code",
      "source": [
        "def predict_image(imagepath,model):\n",
        "  pred = image.load_img(imagepath,target_size=(64,64))\n",
        "  pred = image.img_to_array(pred)\n",
        "  pred = pred/255\n",
        "  pred = np.expand_dims(pred,axis=0)\n",
        "  result = model.predict(pred)\n",
        "\n",
        "  return result"
      ],
      "metadata": {
        "id": "rEH9yMUOVTKR"
      },
      "execution_count": null,
      "outputs": []
    },
    {
      "cell_type": "code",
      "source": [
        "prediction = predict_image('/content/drive/MyDrive/dog breed/Affenhuahua dog/Image_1.jpg',model)\n"
      ],
      "metadata": {
        "id": "m6yKzyhLWn-7"
      },
      "execution_count": null,
      "outputs": []
    },
    {
      "cell_type": "code",
      "source": [
        "prediction"
      ],
      "metadata": {
        "colab": {
          "base_uri": "https://localhost:8080/"
        },
        "id": "Bm76Ym2LW_hV",
        "outputId": "1823cabe-8690-4945-9f77-99152e335650"
      },
      "execution_count": null,
      "outputs": [
        {
          "output_type": "execute_result",
          "data": {
            "text/plain": [
              "array([[[[0.29833123, 0.24470721, 0.21385516, 0.24310638]]]],\n",
              "      dtype=float32)"
            ]
          },
          "metadata": {},
          "execution_count": 13
        }
      ]
    },
    {
      "cell_type": "code",
      "source": [
        "final_res = prediction.argmax()\n",
        "final_res"
      ],
      "metadata": {
        "colab": {
          "base_uri": "https://localhost:8080/"
        },
        "id": "qYT1H6JzXR_Q",
        "outputId": "f48d826e-d005-49cc-affc-a4ea96afc776"
      },
      "execution_count": null,
      "outputs": [
        {
          "output_type": "execute_result",
          "data": {
            "text/plain": [
              "0"
            ]
          },
          "metadata": {},
          "execution_count": 14
        }
      ]
    },
    {
      "cell_type": "code",
      "source": [
        "classes=['Affenhuahua dog', 'Afgan Hound dog', 'Akita dog', 'Alaskan Malamute dog']\n",
        "print(classes[final_res])"
      ],
      "metadata": {
        "colab": {
          "base_uri": "https://localhost:8080/"
        },
        "id": "Kz1tshKUXUAJ",
        "outputId": "b72bd522-a6b2-4c39-a1b3-b3cdd9b9c787"
      },
      "execution_count": null,
      "outputs": [
        {
          "output_type": "stream",
          "name": "stdout",
          "text": [
            "Affenhuahua dog\n"
          ]
        }
      ]
    }
  ]
}